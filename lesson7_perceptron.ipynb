{
 "cells": [
  {
   "cell_type": "code",
   "execution_count": 16,
   "id": "9ee731f7",
   "metadata": {},
   "outputs": [
    {
     "name": "stdout",
     "output_type": "stream",
     "text": [
      "shuffled_index: [ 6  2  9  4  8 14 19  1 11 13 16 17  0 12 18 10 15  3  5  7]\n",
      "train_data: [[ 1.50146275  2.76432549 -1.        ]\n",
      " [ 1.06834281  2.88666088 -1.        ]\n",
      " [ 3.18222626  3.11937572 -1.        ]\n",
      " [ 1.22742456  2.86298719 -1.        ]\n",
      " [ 3.66571909  3.7381882  -1.        ]\n",
      " [ 8.39351834  4.94086402  1.        ]\n",
      " [ 5.80488674  6.25923824  1.        ]\n",
      " [ 2.85228509  1.29292904 -1.        ]\n",
      " [ 6.47816715 13.32810611  1.        ]\n",
      " [10.64271804  8.87563857  1.        ]\n",
      " [ 7.53732905  5.70554999  1.        ]\n",
      " [ 7.15410931 10.66109393  1.        ]\n",
      " [ 2.16608544  2.78196448 -1.        ]\n",
      " [ 8.33634151  8.36273169  1.        ]\n",
      " [ 6.14433234  8.21055968  1.        ]\n",
      " [ 4.26789032  6.72717204  1.        ]\n",
      " [ 7.32503921  6.07725715  1.        ]\n",
      " [ 1.77821034  2.38172358 -1.        ]\n",
      " [ 1.71873997  1.06807457 -1.        ]\n",
      " [ 2.19150443  1.38123617 -1.        ]]\n"
     ]
    },
    {
     "data": {
      "image/png": "[encoded data removed]",
      "text/plain": [
       "<Figure size 640x480 with 1 Axes>"
      ]
     },
     "metadata": {},
     "output_type": "display_data"
    }
   ],
   "source": [
    "import numpy as np\n",
    "import matplotlib.pyplot as plt\n",
    "\n",
    "np.random.seed(314)\n",
    "\n",
    "data_size1 = 10\n",
    "x1 = np.random.randn(data_size1,2)+np.array([2,2])\n",
    "y1 = [-1 for _ in range(data_size1)]\n",
    "data_size2 = 10\n",
    "x2 = np.random.randn(data_size2,2)*2 + np.array([8,8])\n",
    "y2 = [1 for _ in range(data_size2)]\n",
    "x = np.concatenate((x1,x2),axis=0)\n",
    "y = np.concatenate((y1,y2),axis=0)\n",
    "\n",
    "shuffled_index = np.random.permutation(data_size1+data_size2)\n",
    "print(\"shuffled_index:\", shuffled_index)\n",
    "x = x[shuffled_index]\n",
    "y = y[shuffled_index]\n",
    "train_data = np.concatenate((x,y[:,np.newaxis]),axis=1)\n",
    "print(\"train_data:\", train_data)\n",
    "\n",
    "plt.scatter(train_data[:,0], train_data[:,1], marker=\".\", s=300, c = y, cmap=plt.cm.Spectral)\n",
    "plt.title(\"Data\")\n",
    "plt.show()"
   ]
  },
  {
   "cell_type": "code",
   "execution_count": 17,
   "id": "fcc4fd54",
   "metadata": {},
   "outputs": [
    {
     "name": "stdout",
     "output_type": "stream",
     "text": [
      "update weight/bias: 3.662519607024163 3.038628576040485 0.5\n",
      "update weight/bias: 3.1283482021588505 1.595298136548129 0.0\n",
      "update weight/bias: 1.7022056555578562 0.9488336160189257 -0.5\n",
      "update weight/bias: 0.6064534385664728 0.25821553124912766 -1.0\n",
      "update weight/bias: -0.0072588404447664345 -1.1732780618880432 -1.5\n",
      "update weight/bias: 3.56979581700504 4.157268901515593 -1.0\n",
      "update weight/bias: 2.7104258301108155 3.6232316160976543 -1.5\n",
      "update weight/bias: 1.6146736131194321 2.9326135313278563 -2.0\n",
      "update weight/bias: 1.0805022082541196 1.4892830918355 -2.5\n",
      "update weight/bias: -0.3456403383468747 0.8428185713062968 -3.0\n",
      "update weight/bias: 3.4230241861565407 3.6955935657768997 -2.5\n",
      "update weight/bias: 2.5636541992623156 3.161556280358961 -3.0\n",
      "update weight/bias: 1.1375116526613214 2.5150917598297577 -3.5\n",
      "update weight/bias: 0.38678027777241897 1.1329290169473543 -4.0\n",
      "update weight/bias: -1.446079265832824 -0.7361650837497964 -4.5\n",
      "update weight/bias: 1.7930043074867144 5.9278879714909145 -4.0\n",
      "update weight/bias: 1.2588329026214018 4.484557531998558 -4.5\n",
      "update weight/bias: 0.3697277316535954 3.2936957431536 -5.0\n",
      "update weight/bias: -0.519377439314211 2.1028339543086423 -5.5\n",
      "update weight/bias: -2.352236982919454 0.23373985361149163 -6.0\n",
      "update weight/bias: 1.8159337720901148 4.415105700242464 -5.5\n",
      "update weight/bias: 0.7328910527198487 3.024123458986641 -6.0\n",
      "update weight/bias: -0.3501516666504174 1.6331412177308182 -6.5\n",
      "w= [-0.3501516666504174, 1.6331412177308182]\n",
      "b= -6.5\n",
      "\n",
      "\n",
      "\n",
      "ground_truth:  [-1. -1. -1. -1. -1.  1.  1. -1.  1.  1.  1.  1. -1.  1.  1.  1.  1. -1.\n",
      " -1. -1.]\n",
      "predicted:     [-1. -1. -1. -1. -1. -1.  1. -1.  1.  1.  1.  1. -1.  1.  1.  1.  1. -1.\n",
      " -1. -1.]\n",
      "accuracy:      0.95\n"
     ]
    }
   ],
   "source": [
    "import random\n",
    "import numpy as np\n",
    "\n",
    "def sign(v):\n",
    "    if v>0: return 1\n",
    "    else: return -1\n",
    "    \n",
    "def perceptron_train(train_data, eta = 0.5, n_iter=100):\n",
    "    weight = [0,0]\n",
    "    bias = 0\n",
    "    learning_rate = eta\n",
    "    train_num = n_iter\n",
    "    for i in range(train_num):\n",
    "        ti = np.random.randint(len(train_data))\n",
    "        [x1,x2,y] = train_data[ti]\n",
    "        y_pred = sign(weight[0]*x1 + weight[1]*x2+bias)\n",
    "        if y*y_pred <= 0:\n",
    "            weight[0] = weight[0] + learning_rate * y * x1\n",
    "            weight[1] = weight[1] + learning_rate * y * x2\n",
    "            bias = bias + learning_rate  * y\n",
    "            print(\"update weight/bias:\", weight[0], weight[1], bias)\n",
    "    return weight, bias\n",
    "\n",
    "def perceptron_pred(data, w, b):\n",
    "    y_pred = []\n",
    "    for d in data:\n",
    "        x1,x2,y = d\n",
    "        yi = sign(w[0]*x1+w[1]*x2+b)\n",
    "        y_pred.append(yi)\n",
    "    return np.array(y_pred, dtype = float)\n",
    "\n",
    "w,b = perceptron_train(train_data)\n",
    "print(\"w=\", w)\n",
    "print(\"b=\", b)\n",
    "\n",
    "y_pred = perceptron_pred(train_data, w, b)\n",
    "\n",
    "# 计算分类精度\n",
    "c = y_pred == y\n",
    "cn = np.sum(c == True)\n",
    "acc = cn / len(y_pred)\n",
    "print()\n",
    "\n",
    "# 因为前面是随机性，准确率结果可能每次不同\n",
    "print(\"\\n\")\n",
    "print(\"ground_truth: \", train_data[:, 2])\n",
    "print(\"predicted:    \", y_pred)\n",
    "print(\"accuracy:     \", acc)\n"
   ]
  },
  {
   "cell_type": "code",
   "execution_count": null,
   "id": "fe3cc12c",
   "metadata": {},
   "outputs": [],
   "source": []
  },
  {
   "cell_type": "code",
   "execution_count": null,
   "id": "369e7372",
   "metadata": {},
   "outputs": [],
   "source": []
  }
 ],
 "metadata": {
  "kernelspec": {
   "display_name": "Python 3 (ipykernel)",
   "language": "python",
   "name": "python3"
  },
  "language_info": {
   "codemirror_mode": {
    "name": "ipython",
    "version": 3
   },
   "file_extension": ".py",
   "mimetype": "text/x-python",
   "name": "python",
   "nbconvert_exporter": "python",
   "pygments_lexer": "ipython3",
   "version": "3.9.13"
  }
 },
 "nbformat": 4,
 "nbformat_minor": 5
}
